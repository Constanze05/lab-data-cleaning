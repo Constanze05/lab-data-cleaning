{
 "cells": [
  {
   "cell_type": "markdown",
   "metadata": {},
   "source": [
    "## Global Historical Climatology Network Dataset\n",
    "Variables are stored in both rows and columns\n",
    "This dataset represents the daily weather records for a weather station (MX17004) in Mexico for five months in 2010."
   ]
  },
  {
   "cell_type": "code",
   "execution_count": 1,
   "metadata": {},
   "outputs": [],
   "source": [
    "# importing libraries\n",
    "import pandas as pd\n",
    "import numpy as np"
   ]
  },
  {
   "cell_type": "code",
   "execution_count": 2,
   "metadata": {},
   "outputs": [
    {
     "data": {
      "text/html": [
       "<div>\n",
       "<style scoped>\n",
       "    .dataframe tbody tr th:only-of-type {\n",
       "        vertical-align: middle;\n",
       "    }\n",
       "\n",
       "    .dataframe tbody tr th {\n",
       "        vertical-align: top;\n",
       "    }\n",
       "\n",
       "    .dataframe thead th {\n",
       "        text-align: right;\n",
       "    }\n",
       "</style>\n",
       "<table border=\"1\" class=\"dataframe\">\n",
       "  <thead>\n",
       "    <tr style=\"text-align: right;\">\n",
       "      <th></th>\n",
       "      <th>id</th>\n",
       "      <th>year</th>\n",
       "      <th>month</th>\n",
       "      <th>element</th>\n",
       "      <th>d1</th>\n",
       "      <th>d2</th>\n",
       "      <th>d3</th>\n",
       "      <th>d4</th>\n",
       "      <th>d5</th>\n",
       "      <th>d6</th>\n",
       "      <th>...</th>\n",
       "      <th>d22</th>\n",
       "      <th>d23</th>\n",
       "      <th>d24</th>\n",
       "      <th>d25</th>\n",
       "      <th>d26</th>\n",
       "      <th>d27</th>\n",
       "      <th>d28</th>\n",
       "      <th>d29</th>\n",
       "      <th>d30</th>\n",
       "      <th>d31</th>\n",
       "    </tr>\n",
       "  </thead>\n",
       "  <tbody>\n",
       "    <tr>\n",
       "      <th>0</th>\n",
       "      <td>MX17004</td>\n",
       "      <td>2010</td>\n",
       "      <td>1</td>\n",
       "      <td>tmax</td>\n",
       "      <td>NaN</td>\n",
       "      <td>NaN</td>\n",
       "      <td>NaN</td>\n",
       "      <td>NaN</td>\n",
       "      <td>NaN</td>\n",
       "      <td>NaN</td>\n",
       "      <td>...</td>\n",
       "      <td>NaN</td>\n",
       "      <td>NaN</td>\n",
       "      <td>NaN</td>\n",
       "      <td>NaN</td>\n",
       "      <td>NaN</td>\n",
       "      <td>NaN</td>\n",
       "      <td>NaN</td>\n",
       "      <td>NaN</td>\n",
       "      <td>27.8</td>\n",
       "      <td>NaN</td>\n",
       "    </tr>\n",
       "    <tr>\n",
       "      <th>1</th>\n",
       "      <td>MX17004</td>\n",
       "      <td>2010</td>\n",
       "      <td>1</td>\n",
       "      <td>tmin</td>\n",
       "      <td>NaN</td>\n",
       "      <td>NaN</td>\n",
       "      <td>NaN</td>\n",
       "      <td>NaN</td>\n",
       "      <td>NaN</td>\n",
       "      <td>NaN</td>\n",
       "      <td>...</td>\n",
       "      <td>NaN</td>\n",
       "      <td>NaN</td>\n",
       "      <td>NaN</td>\n",
       "      <td>NaN</td>\n",
       "      <td>NaN</td>\n",
       "      <td>NaN</td>\n",
       "      <td>NaN</td>\n",
       "      <td>NaN</td>\n",
       "      <td>14.5</td>\n",
       "      <td>NaN</td>\n",
       "    </tr>\n",
       "    <tr>\n",
       "      <th>2</th>\n",
       "      <td>MX17004</td>\n",
       "      <td>2010</td>\n",
       "      <td>2</td>\n",
       "      <td>tmax</td>\n",
       "      <td>NaN</td>\n",
       "      <td>27.3</td>\n",
       "      <td>24.1</td>\n",
       "      <td>NaN</td>\n",
       "      <td>NaN</td>\n",
       "      <td>NaN</td>\n",
       "      <td>...</td>\n",
       "      <td>NaN</td>\n",
       "      <td>29.9</td>\n",
       "      <td>NaN</td>\n",
       "      <td>NaN</td>\n",
       "      <td>NaN</td>\n",
       "      <td>NaN</td>\n",
       "      <td>NaN</td>\n",
       "      <td>NaN</td>\n",
       "      <td>NaN</td>\n",
       "      <td>NaN</td>\n",
       "    </tr>\n",
       "  </tbody>\n",
       "</table>\n",
       "<p>3 rows × 35 columns</p>\n",
       "</div>"
      ],
      "text/plain": [
       "        id  year  month element  d1    d2    d3  d4  d5  d6  ...  d22   d23  \\\n",
       "0  MX17004  2010      1    tmax NaN   NaN   NaN NaN NaN NaN  ...  NaN   NaN   \n",
       "1  MX17004  2010      1    tmin NaN   NaN   NaN NaN NaN NaN  ...  NaN   NaN   \n",
       "2  MX17004  2010      2    tmax NaN  27.3  24.1 NaN NaN NaN  ...  NaN  29.9   \n",
       "\n",
       "   d24  d25  d26  d27  d28  d29   d30  d31  \n",
       "0  NaN  NaN  NaN  NaN  NaN  NaN  27.8  NaN  \n",
       "1  NaN  NaN  NaN  NaN  NaN  NaN  14.5  NaN  \n",
       "2  NaN  NaN  NaN  NaN  NaN  NaN   NaN  NaN  \n",
       "\n",
       "[3 rows x 35 columns]"
      ]
     },
     "execution_count": 2,
     "metadata": {},
     "output_type": "execute_result"
    }
   ],
   "source": [
    "#missing_values = [\"n/a\", \"na\", \"--\"]\n",
    "#df = pd.read_csv(\"../weather-raw.csv\", na_values = missing_values)\n",
    "ds = pd.read_csv('../weather-raw.csv')\n",
    "ds.head(3)"
   ]
  },
  {
   "cell_type": "code",
   "execution_count": 3,
   "metadata": {},
   "outputs": [
    {
     "data": {
      "text/plain": [
       "(22, 35)"
      ]
     },
     "execution_count": 3,
     "metadata": {},
     "output_type": "execute_result"
    }
   ],
   "source": [
    "ds.shape # represents sample(row) and features(columns) of sample\n",
    "# one month must be missing -> only 22 rows (september is missing)\n",
    "# probably missing values for every other month because they only have 30 days\n",
    "# coulums are (weather station, year, month, average, day 1 to day 31)"
   ]
  },
  {
   "cell_type": "code",
   "execution_count": 4,
   "metadata": {},
   "outputs": [],
   "source": [
    "#ds.describe()"
   ]
  },
  {
   "cell_type": "code",
   "execution_count": 5,
   "metadata": {},
   "outputs": [],
   "source": [
    "ds = ds.rename(columns={\"id\": \"WeatherStation\", \"element\": \"average\",})"
   ]
  },
  {
   "cell_type": "code",
   "execution_count": 6,
   "metadata": {},
   "outputs": [
    {
     "name": "stdout",
     "output_type": "stream",
     "text": [
      "WeatherStation     0\n",
      "year               0\n",
      "month              0\n",
      "average            0\n",
      "d1                20\n",
      "d2                18\n",
      "d3                18\n",
      "d4                20\n",
      "d5                14\n",
      "d6                20\n",
      "d7                20\n",
      "d8                20\n",
      "d9                22\n",
      "d10               20\n",
      "d11               20\n",
      "d12               22\n",
      "d13               20\n",
      "d14               18\n",
      "d15               20\n",
      "d16               20\n",
      "d17               20\n",
      "d18               22\n",
      "d19               22\n",
      "d20               22\n",
      "d21               22\n",
      "d22               22\n",
      "d23               18\n",
      "d24               22\n",
      "d25               20\n",
      "d26               20\n",
      "d27               16\n",
      "d28               20\n",
      "d29               18\n",
      "d30               20\n",
      "d31               20\n",
      "dtype: int64\n"
     ]
    }
   ],
   "source": [
    "dsnull = ds.isnull().sum()\n",
    "print(dsnull)"
   ]
  },
  {
   "cell_type": "code",
   "execution_count": 7,
   "metadata": {},
   "outputs": [],
   "source": [
    "zero_values = ds[ds == 0.0].count() #to check how many zeros in one row\n",
    "# print(zero_values)\n",
    "# every row has at least one value"
   ]
  },
  {
   "cell_type": "code",
   "execution_count": 8,
   "metadata": {},
   "outputs": [
    {
     "name": "stdout",
     "output_type": "stream",
     "text": [
      "   WeatherStation  year  month average    d1    d2    d3    d4    d5    d6  \\\n",
      "0         MX17004  2010      1    tmax     -     -     -     -     -     -   \n",
      "1         MX17004  2010      1    tmin     -     -     -     -     -     -   \n",
      "2         MX17004  2010      2    tmax     -  27.3  24.1     -     -     -   \n",
      "3         MX17004  2010      2    tmin     -  14.4  14.4     -     -     -   \n",
      "4         MX17004  2010      3    tmax     -     -     -     -  32.1     -   \n",
      "5         MX17004  2010      3    tmin     -     -     -     -  14.2     -   \n",
      "6         MX17004  2010      4    tmax     -     -     -     -     -     -   \n",
      "7         MX17004  2010      4    tmin     -     -     -     -     -     -   \n",
      "8         MX17004  2010      5    tmax     -     -     -     -     -     -   \n",
      "9         MX17004  2010      5    tmin     -     -     -     -     -     -   \n",
      "10        MX17004  2010      6    tmax     -     -     -     -     -     -   \n",
      "11        MX17004  2010      6    tmin     -     -     -     -     -     -   \n",
      "12        MX17004  2010      7    tmax     -     -  28.6     -     -     -   \n",
      "13        MX17004  2010      7    tmin     -     -  17.5     -     -     -   \n",
      "14        MX17004  2010      8    tmax     -     -     -     -  29.6     -   \n",
      "15        MX17004  2010      8    tmin     -     -     -     -  15.8     -   \n",
      "16        MX17004  2010     10    tmax     -     -     -     -    27     -   \n",
      "17        MX17004  2010     10    tmin     -     -     -     -    14     -   \n",
      "18        MX17004  2010     11    tmax     -  31.3     -  27.2  26.3     -   \n",
      "19        MX17004  2010     11    tmin     -  16.3     -    12   7.9     -   \n",
      "20        MX17004  2010     12    tmax  29.9     -     -     -     -  27.8   \n",
      "21        MX17004  2010     12    tmin  13.8     -     -     -     -  10.5   \n",
      "\n",
      "    ... d22   d23 d24   d25   d26   d27   d28   d29   d30   d31  \n",
      "0   ...   -     -   -     -     -     -     -     -  27.8     -  \n",
      "1   ...   -     -   -     -     -     -     -     -  14.5     -  \n",
      "2   ...   -  29.9   -     -     -     -     -     -     -     -  \n",
      "3   ...   -  10.7   -     -     -     -     -     -     -     -  \n",
      "4   ...   -     -   -     -     -     -     -     -     -     -  \n",
      "5   ...   -     -   -     -     -     -     -     -     -     -  \n",
      "6   ...   -     -   -     -     -  36.3     -     -     -     -  \n",
      "7   ...   -     -   -     -     -  16.7     -     -     -     -  \n",
      "8   ...   -     -   -     -     -  33.2     -     -     -     -  \n",
      "9   ...   -     -   -     -     -  18.2     -     -     -     -  \n",
      "10  ...   -     -   -     -     -     -     -  30.1     -     -  \n",
      "11  ...   -     -   -     -     -     -     -    18     -     -  \n",
      "12  ...   -     -   -     -     -     -     -     -     -     -  \n",
      "13  ...   -     -   -     -     -     -     -     -     -     -  \n",
      "14  ...   -  26.4   -  29.7     -     -     -    28     -  25.4  \n",
      "15  ...   -    15   -  15.6     -     -     -  15.3     -  15.4  \n",
      "16  ...   -     -   -     -     -     -  31.2     -     -     -  \n",
      "17  ...   -     -   -     -     -     -    15     -     -     -  \n",
      "18  ...   -     -   -     -  28.1  27.7     -     -     -     -  \n",
      "19  ...   -     -   -     -  12.1  14.2     -     -     -     -  \n",
      "20  ...   -     -   -     -     -     -     -     -     -     -  \n",
      "21  ...   -     -   -     -     -     -     -     -     -     -  \n",
      "\n",
      "[22 rows x 35 columns]\n"
     ]
    }
   ],
   "source": [
    "#ds.replace(missing values, \"-\")\n",
    "ds = ds[list(ds.columns)].fillna(\"-\")\n",
    "print(ds)"
   ]
  },
  {
   "cell_type": "code",
   "execution_count": 14,
   "metadata": {},
   "outputs": [],
   "source": [
    "#ds.replace(int(1), \"January\").replace(2, \"February\").replace(3, \"March\").replace(4, \"April\").replace(5, \"May\").replace(6, \"June\").replace(7, \"July\").replace(8, \"August\").replace(10, \"October\").replace(11, \"November\").replace(12, \"December\")\n",
    "#ds.rename(index[3]={0:'zero',1:'one'}, inplace=True)"
   ]
  },
  {
   "cell_type": "code",
   "execution_count": 10,
   "metadata": {},
   "outputs": [
    {
     "data": {
      "text/plain": [
       "WeatherStation    MX17004\n",
       "year                 2010\n",
       "month                  12\n",
       "average              tmin\n",
       "d9                      -\n",
       "d12                     -\n",
       "d18                     -\n",
       "d19                     -\n",
       "d20                     -\n",
       "d21                     -\n",
       "d22                     -\n",
       "d24                     -\n",
       "dtype: object"
      ]
     },
     "execution_count": 10,
     "metadata": {},
     "output_type": "execute_result"
    }
   ],
   "source": [
    "# calculate max Value\n",
    "ds.max(axis=0)"
   ]
  },
  {
   "cell_type": "code",
   "execution_count": 11,
   "metadata": {},
   "outputs": [
    {
     "data": {
      "text/plain": [
       "'tmax'"
      ]
     },
     "execution_count": 11,
     "metadata": {},
     "output_type": "execute_result"
    }
   ],
   "source": [
    "ds.at[0,\"average\"] # access cell value"
   ]
  },
  {
   "cell_type": "code",
   "execution_count": 12,
   "metadata": {},
   "outputs": [],
   "source": [
    "# ds.at[0,\"average\"] =  27.8       overwrite cell value "
   ]
  }
 ],
 "metadata": {
  "kernelspec": {
   "display_name": "Python 3",
   "language": "python",
   "name": "python3"
  },
  "language_info": {
   "codemirror_mode": {
    "name": "ipython",
    "version": 3
   },
   "file_extension": ".py",
   "mimetype": "text/x-python",
   "name": "python",
   "nbconvert_exporter": "python",
   "pygments_lexer": "ipython3",
   "version": "3.7.4"
  }
 },
 "nbformat": 4,
 "nbformat_minor": 2
}
